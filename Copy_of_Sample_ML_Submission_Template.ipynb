{
  "nbformat": 4,
  "nbformat_minor": 0,
  "metadata": {
    "colab": {
      "private_outputs": true,
      "provenance": [],
      "collapsed_sections": [
        "vncDsAP0Gaoa",
        "FJNUwmbgGyua",
        "w6K7xa23Elo4",
        "yQaldy8SH6Dl",
        "mDgbUHAGgjLW",
        "O_i_v8NEhb9l",
        "HhfV-JJviCcP",
        "Y3lxredqlCYt",
        "3RnN4peoiCZX",
        "x71ZqKXriCWQ",
        "7hBIi_osiCS2",
        "JlHwYmJAmNHm",
        "35m5QtbWiB9F",
        "PoPl-ycgm1ru",
        "H0kj-8xxnORC",
        "nA9Y7ga8ng1Z",
        "PBTbrJXOngz2",
        "u3PMJOP6ngxN",
        "dauF4eBmngu3",
        "bKJF3rekwFvQ",
        "MSa1f5Uengrz",
        "GF8Ens_Soomf",
        "0wOQAZs5pc--",
        "K5QZ13OEpz2H",
        "lQ7QKXXCp7Bj",
        "448CDAPjqfQr",
        "KSlN3yHqYklG",
        "t6dVpIINYklI",
        "ijmpgYnKYklI",
        "-JiQyfWJYklI",
        "EM7whBJCYoAo",
        "fge-S5ZAYoAp",
        "85gYPyotYoAp",
        "RoGjAbkUYoAp",
        "4Of9eVA-YrdM",
        "iky9q4vBYrdO",
        "F6T5p64dYrdO",
        "y-Ehk30pYrdP",
        "bamQiAODYuh1",
        "QHF8YVU7Yuh3",
        "GwzvFGzlYuh3",
        "qYpmQ266Yuh3",
        "OH-pJp9IphqM",
        "bbFf2-_FphqN",
        "_ouA3fa0phqN",
        "Seke61FWphqN",
        "PIIx-8_IphqN",
        "t27r6nlMphqO",
        "r2jJGEOYphqO",
        "b0JNsNcRphqO",
        "BZR9WyysphqO",
        "jj7wYXLtphqO",
        "eZrbJ2SmphqO",
        "rFu4xreNphqO",
        "YJ55k-q6phqO",
        "gCFgpxoyphqP",
        "OVtJsKN_phqQ",
        "lssrdh5qphqQ",
        "U2RJ9gkRphqQ",
        "1M8mcRywphqQ",
        "tgIPom80phqQ",
        "JMzcOPDDphqR",
        "x-EpHcCOp1ci",
        "X_VqEhTip1ck",
        "8zGJKyg5p1ck",
        "PVzmfK_Ep1ck",
        "n3dbpmDWp1ck",
        "ylSl6qgtp1ck",
        "ZWILFDl5p1ck",
        "M7G43BXep1ck",
        "Ag9LCva-p1cl",
        "E6MkPsBcp1cl",
        "2cELzS2fp1cl",
        "3MPXvC8up1cl",
        "NC_X3p0fY2L0",
        "UV0SzAkaZNRQ",
        "YPEH6qLeZNRQ",
        "q29F0dvdveiT",
        "EXh0U9oCveiU",
        "22aHeOlLveiV",
        "g-ATYxFrGrvw",
        "Yfr_Vlr8HBkt",
        "8yEUt7NnHlrM",
        "tEA2Xm5dHt1r",
        "I79__PHVH19G",
        "Ou-I18pAyIpj",
        "fF3858GYyt-u",
        "4_0_7-oCpUZd",
        "hwyV_J3ipUZe",
        "3yB-zSqbpUZe",
        "dEUvejAfpUZe",
        "Fd15vwWVpUZf",
        "bn_IUdTipZyH",
        "49K5P_iCpZyH",
        "Nff-vKELpZyI",
        "kLW572S8pZyI",
        "dWbDXHzopZyI",
        "yLjJCtPM0KBk",
        "xiyOF9F70UgQ",
        "7wuGOrhz0itI",
        "id1riN9m0vUs",
        "578E2V7j08f6",
        "89xtkJwZ18nB",
        "67NQN5KX2AMe",
        "Iwf50b-R2tYG",
        "GMQiZwjn3iu7",
        "WVIkgGqN3qsr",
        "XkPnILGE3zoT",
        "Hlsf0x5436Go",
        "mT9DMSJo4nBL",
        "c49ITxTc407N",
        "OeJFEK0N496M",
        "9ExmJH0g5HBk",
        "cJNqERVU536h",
        "k5UmGsbsOxih",
        "T0VqWOYE6DLQ",
        "qBMux9mC6MCf",
        "-oLEiFgy-5Pf",
        "C74aWNz2AliB",
        "2DejudWSA-a0",
        "pEMng2IbBLp7",
        "rAdphbQ9Bhjc",
        "TNVZ9zx19K6k",
        "nqoHp30x9hH9",
        "rMDnDkt2B6du",
        "yiiVWRdJDDil",
        "1UUpS68QDMuG",
        "kexQrXU-DjzY",
        "T5CmagL3EC8N",
        "BhH2vgX9EjGr",
        "qjKvONjwE8ra",
        "P1XJ9OREExlT",
        "VFOzZv6IFROw",
        "TIqpNgepFxVj",
        "VfCC591jGiD4",
        "OB4l2ZhMeS1U",
        "ArJBuiUVfxKd",
        "4qY1EAkEfxKe",
        "PiV4Ypx8fxKe",
        "TfvqoZmBfxKf",
        "dJ2tPlVmpsJ0",
        "JWYfwnehpsJ1",
        "-jK_YjpMpsJ2",
        "HAih1iBOpsJ2",
        "zVGeBEFhpsJ2",
        "bmKjuQ-FpsJ3",
        "Fze-IPXLpx6K",
        "7AN1z2sKpx6M",
        "9PIHJqyupx6M",
        "_-qAgymDpx6N",
        "Z-hykwinpx6N",
        "h_CCil-SKHpo",
        "cBFFvTBNJzUa",
        "HvGl1hHyA_VK",
        "EyNgTHvd2WFk",
        "KH5McJBi2d8v",
        "iW_Lq9qf2h6X",
        "-Kee-DAl2viO",
        "gCX9965dhzqZ",
        "gIfDvo9L0UH2"
      ],
      "name": "Copy_of_Sample_ML_Submission_Template.ipynb",
      "include_colab_link": true
    },
    "kernelspec": {
      "name": "python3",
      "display_name": "Python 3"
    },
    "language_info": {
      "name": "python"
    },
    "gpuClass": "standard"
  },
  "cells": [
    {
      "cell_type": "markdown",
      "metadata": {
        "id": "view-in-github",
        "colab_type": "text"
      },
      "source": [
        "<a href=\"https://colab.research.google.com/github/khanrasanju420/Bike-shearing-Demand-Prediction/blob/main/Copy_of_Sample_ML_Submission_Template.ipynb\" target=\"_parent\"><img src=\"https://colab.research.google.com/assets/colab-badge.svg\" alt=\"Open In Colab\"/></a>"
      ]
    },
    {
      "cell_type": "markdown",
      "source": [
        "# **Project Name**    -  Seoul Bike Sharing Demand Prediction\n",
        "\n"
      ],
      "metadata": {
        "id": "vncDsAP0Gaoa"
      }
    },
    {
      "cell_type": "markdown",
      "source": [
        "![download (1).jpeg](data:image/jpeg;base64,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)"
      ],
      "metadata": {
        "id": "qCHIx7sk7IoL"
      }
    },
    {
      "cell_type": "markdown",
      "source": [
        "##### **Project Type**    - Regression\n",
        "##### **Contribution**    - Individual\n",
        "##### **Team Member  -** SANJU KHANRA\n"
      ],
      "metadata": {
        "id": "beRrZCGUAJYm"
      }
    },
    {
      "cell_type": "markdown",
      "source": [
        "# **Project Summary -**\n",
        "\n"
      ],
      "metadata": {
        "id": "FJNUwmbgGyua"
      }
    },
    {
      "cell_type": "markdown",
      "source": [
        "This projest presents a rule-based regression predictive model for bike sharing demand prediction. A bike-sharing system provides people with a sustainable mode of transportation and has beneficial effects for both the environment and the user. In recent days, Pubic rental bike sharing is becoming popular because of is increased comfortableness and environmental sustainability. Data used include Seoul Bike and Capital Bikeshare program data. Data have weather data associated with it for each hour. For the dataset, we are using linear regression model were train with optimize hyperparameters using a repeated cross validation approach and testing set is used for evaluation. Multiple evaluation indices such as 𝑅 2 , Root Mean Square error are use to measure the prediction performance of the regression models. The performance of the model is vary with the time interval used in transforming data.\n",
        "\n",
        "The increased usage of private vehicles in metropolitan areas has resulted in significant rise in fuel consumption’s that have adverse effect on the climate. It has led people in today’s society to accept problems like road traffic as the norm. Therefore the government and organzations started adopting measures to facilitate sustainable development to address the issue. Many countries have bike sharing system, such as bike sharing system in South Korea, which started to overcome all this issues and to develop a healthy environment for citizen of Seoul to live. In that context, the Bike Share initiative was launched to tackle the public mobility problem. It provided the people with an alternative to using a sustainable mode of transport for a small distance at a minimal cost. And gave people the freedom to utilize the service by themselves. In a bike-share system, a user could lend a bike from any bike stations and return it to a bike station near the destination and since it involves the activity of pedalling the bike it has beneficial health effects. And the city-wide installation of bike stations improved the accessibility of areas by bikes. Docking stations are computerized stands for the purpose of pickup and drop off of the rental bikes. Users of public bikes can rent and return rental bikes at any docking station. With this kind of smart technology and convenience, the use of Rental bike is increasing every day. So, there is a need to manage the bike rental demand and manage the continuous and convenient service for the users. This study proposes a data mining based approach including weather data to predict whole city public bike demand. A rule-based model is used to predict the number of rental bikes needed at each hour.\n",
        "\n"
      ],
      "metadata": {
        "id": "F6v_1wHtG2nS"
      }
    },
    {
      "cell_type": "markdown",
      "source": [
        "# **GitHub Link -**"
      ],
      "metadata": {
        "id": "w6K7xa23Elo4"
      }
    },
    {
      "cell_type": "markdown",
      "source": [
        "https://github.com/khanrasanju420/Bike-shearing-Demand-Prediction"
      ],
      "metadata": {
        "id": "h1o69JH3Eqqn"
      }
    },
    {
      "cell_type": "markdown",
      "source": [
        "# **Problem Statement**\n"
      ],
      "metadata": {
        "id": "yQaldy8SH6Dl"
      }
    },
    {
      "cell_type": "markdown",
      "source": [
        "\n",
        "Currently Rental bikes are introduced in many urban cities for the enhancement of mobility comfort. It is important to make the rental bike available and accessible to the public at the right time as it lessens the waiting time. Eventually, providing the city with a stable supply of rental bikes becomes a major concern. The crucial part is the prediction of bike count required at each hour for the stable supply of rental bikes.\n",
        "\n"
      ],
      "metadata": {
        "id": "DpeJGUA3kjGy"
      }
    },
    {
      "cell_type": "markdown",
      "source": [
        "# **General Guidelines** : -  "
      ],
      "metadata": {
        "id": "mDgbUHAGgjLW"
      }
    },
    {
      "cell_type": "markdown",
      "source": [
        "1.   Well-structured, formatted, and commented code is required. \n",
        "2.   Exception Handling, Production Grade Code & Deployment Ready Code will be a plus. Those students will be awarded some additional credits. \n",
        "     \n",
        "     The additional credits will have advantages over other students during Star Student selection.\n",
        "       \n",
        "             [ Note: - Deployment Ready Code is defined as, the whole .ipynb notebook should be executable in one go\n",
        "                       without a single error logged. ]\n",
        "\n",
        "3.   Each and every logic should have proper comments.\n",
        "4. You may add as many number of charts you want. Make Sure for each and every chart the following format should be answered.\n",
        "        \n",
        "\n",
        "```\n",
        "# Chart visualization code\n",
        "```\n",
        "            \n",
        "\n",
        "*   Why did you pick the specific chart?\n",
        "*   What is/are the insight(s) found from the chart?\n",
        "* Will the gained insights help creating a positive business impact? \n",
        "Are there any insights that lead to negative growth? Justify with specific reason.\n",
        "\n",
        "5. You have to create at least 15 logical & meaningful charts having important insights.\n",
        "\n",
        "\n",
        "[ Hints : - Do the Vizualization in  a structured way while following \"UBM\" Rule. \n",
        "\n",
        "U - Univariate Analysis,\n",
        "\n",
        "B - Bivariate Analysis (Numerical - Categorical, Numerical - Numerical, Categorical - Categorical)\n",
        "\n",
        "M - Multivariate Analysis\n",
        " ]\n",
        "\n",
        "\n",
        "\n",
        "\n",
        "\n",
        "6. You may add more ml algorithms for model creation. Make sure for each and every algorithm, the following format should be answered.\n",
        "\n",
        "\n",
        "*   Explain the ML Model used and it's performance using Evaluation metric Score Chart.\n",
        "\n",
        "\n",
        "*   Cross- Validation & Hyperparameter Tuning\n",
        "\n",
        "*   Have you seen any improvement? Note down the improvement with updates Evaluation metric Score Chart.\n",
        "\n",
        "*   Explain each evaluation metric's indication towards business and the business impact pf the ML model used.\n",
        "\n",
        "\n",
        "\n",
        "\n",
        "\n",
        "\n",
        "\n",
        "\n",
        "\n",
        "\n",
        "\n",
        "\n",
        "\n",
        "\n",
        "\n",
        "\n",
        "\n",
        "\n"
      ],
      "metadata": {
        "id": "ZrxVaUj-hHfC"
      }
    },
    {
      "cell_type": "markdown",
      "source": [
        "# ***Let's Begin !***"
      ],
      "metadata": {
        "id": "O_i_v8NEhb9l"
      }
    },
    {
      "cell_type": "markdown",
      "source": [
        "## ***1. Know Your Data***"
      ],
      "metadata": {
        "id": "HhfV-JJviCcP"
      }
    },
    {
      "cell_type": "markdown",
      "source": [
        "### Import Libraries"
      ],
      "metadata": {
        "id": "Y3lxredqlCYt"
      }
    },
    {
      "cell_type": "code",
      "source": [
        "# Import Libraries\n",
        "import pandas as pd     #(provides wide variety tools for data analysis,many inbuilt methods for grouping,)\n",
        "                         #(combining and filtering data.)\n",
        "    \n",
        "import numpy as np      #for some basic mathematical operations\n",
        "\n",
        "from matplotlib import pyplot as plt #comprehensive library for creating static, animated, and interactive visualizations\n",
        "\n",
        "import seaborn as sns                #  high-level interface for drawing attractive and informative statistical graphics\n",
        "\n",
        "from sklearn.model_selection import train_test_split, GridSearchCV,  cross_val_score\n",
        "from sklearn import preprocessing, linear_model\n",
        "from sklearn.preprocessing import  LabelEncoder\n",
        "from sklearn.preprocessing import StandardScaler, MinMaxScaler, RobustScaler \n",
        "from sklearn.metrics import r2_score, mean_squared_error, accuracy_score\n",
        "from sklearn.linear_model import Ridge, Lasso, LinearRegression, LogisticRegression\n",
        "from sklearn.neighbors import KNeighborsRegressor\n",
        "from sklearn.tree import DecisionTreeRegressor\n",
        "from sklearn.ensemble import RandomForestRegressor, ExtraTreesRegressor, GradientBoostingRegressor\n",
        "from sklearn import neighbors\n",
        "from sklearn.svm import SVR\n",
        "from sklearn import tree\n",
        "from sklearn.ensemble import BaggingRegressor\n",
        "\n",
        "\n",
        "import warnings\n",
        "warnings.filterwarnings('ignore')\n",
        "\n",
        "pd.pandas.set_option('display.max_columns',None)\n",
        "%matplotlib inline"
      ],
      "metadata": {
        "id": "M8Vqi-pPk-HR"
      },
      "execution_count": null,
      "outputs": []
    },
    {
      "cell_type": "markdown",
      "source": [
        "### Dataset Loading"
      ],
      "metadata": {
        "id": "3RnN4peoiCZX"
      }
    },
    {
      "cell_type": "code",
      "source": [
        "# Load Dataset\n",
        "from google.colab import drive\n",
        "drive.mount('/content/drive')"
      ],
      "metadata": {
        "id": "4CkvbW_SlZ_R"
      },
      "execution_count": null,
      "outputs": []
    },
    {
      "cell_type": "code",
      "source": [
        "path = \"/content/drive/MyDrive/Colab Notebooks/Seoul_Bike_Sharing_Demand_Prediction/SeoulBikeData.csv\"\n",
        "bike_df = pd.read_csv(\"/content/drive/MyDrive/Colab Notebooks/Seoul_Bike_Sharing_Demand_Prediction/SeoulBikeData.csv\",encoding= 'unicode_escape')"
      ],
      "metadata": {
        "id": "ZziC0F0wHn6E"
      },
      "execution_count": null,
      "outputs": []
    },
    {
      "cell_type": "markdown",
      "source": [
        "### Dataset First View"
      ],
      "metadata": {
        "id": "x71ZqKXriCWQ"
      }
    },
    {
      "cell_type": "code",
      "source": [
        "# Dataset First Look\n",
        "bike_df.head()"
      ],
      "metadata": {
        "id": "LWNFOSvLl09H"
      },
      "execution_count": null,
      "outputs": []
    },
    {
      "cell_type": "code",
      "source": [
        "bike_df.tail()"
      ],
      "metadata": {
        "id": "FwjvwlINgM02"
      },
      "execution_count": null,
      "outputs": []
    },
    {
      "cell_type": "code",
      "source": [
        "#Getting all the columns\n",
        "print(\"Features of the dataset:\")\n",
        "bike_df.columns"
      ],
      "metadata": {
        "id": "CEsZyj6dgM-q"
      },
      "execution_count": null,
      "outputs": []
    },
    {
      "cell_type": "markdown",
      "source": [
        "### Dataset Rows & Columns count"
      ],
      "metadata": {
        "id": "7hBIi_osiCS2"
      }
    },
    {
      "cell_type": "code",
      "source": [
        "# Dataset Rows & Columns count\n",
        "bike_df.shape\n",
        "     "
      ],
      "metadata": {
        "id": "Kllu7SJgmLij"
      },
      "execution_count": null,
      "outputs": []
    },
    {
      "cell_type": "code",
      "source": [
        "print(f'There are {bike_df.shape[0]} Rows and {bike_df.shape[1]} Columns in the dataset')\n",
        "     "
      ],
      "metadata": {
        "id": "zCbz1e3qhpb3"
      },
      "execution_count": null,
      "outputs": []
    },
    {
      "cell_type": "markdown",
      "source": [
        "### Dataset Information"
      ],
      "metadata": {
        "id": "JlHwYmJAmNHm"
      }
    },
    {
      "cell_type": "code",
      "source": [
        "# Dataset Info\n",
        "bike_df.info()"
      ],
      "metadata": {
        "id": "wJfvZLxtjdib"
      },
      "execution_count": null,
      "outputs": []
    },
    {
      "cell_type": "markdown",
      "source": [
        "#### Duplicate Values"
      ],
      "metadata": {
        "id": "35m5QtbWiB9F"
      }
    },
    {
      "cell_type": "code",
      "source": [
        "# Dataset Duplicate Value Count\n",
        "print(\"Duplicate entry in dataset is :\",bike_df.duplicated().sum())\n",
        "     "
      ],
      "metadata": {
        "id": "1sLdpKYkmox0"
      },
      "execution_count": null,
      "outputs": []
    },
    {
      "cell_type": "markdown",
      "source": [
        "**Not found any duplicated entries inside the dataset**"
      ],
      "metadata": {
        "id": "dNqOclsFj_rc"
      }
    },
    {
      "cell_type": "markdown",
      "source": [
        "#### Missing Values/Null Values"
      ],
      "metadata": {
        "id": "PoPl-ycgm1ru"
      }
    },
    {
      "cell_type": "code",
      "source": [
        "# Missing Values/Null Values Count\n",
        "bike_df.isnull().sum()"
      ],
      "metadata": {
        "id": "GgHWkxvamxVg"
      },
      "execution_count": null,
      "outputs": []
    },
    {
      "cell_type": "markdown",
      "source": [
        "**In this dataframe NaN value is not present**"
      ],
      "metadata": {
        "id": "a9dWJKOvkgzH"
      }
    },
    {
      "cell_type": "code",
      "source": [
        "# Visualizing the missing values\n",
        "bike_df.isna().sum()"
      ],
      "metadata": {
        "id": "3q5wnI3om9sJ"
      },
      "execution_count": null,
      "outputs": []
    },
    {
      "cell_type": "code",
      "source": [
        "pd.DataFrame((bike_df.isnull().sum())*100/bike_df.shape[0]).reset_index()\n",
        "     "
      ],
      "metadata": {
        "id": "aoYqjRfWnyf0"
      },
      "execution_count": null,
      "outputs": []
    },
    {
      "cell_type": "code",
      "source": [
        "pd.DataFrame((bike_df.isnull().sum())*100/bike_df.shape[0]).reset_index()\n",
        "     \n"
      ],
      "metadata": {
        "id": "en7b8pV5qUkj"
      },
      "execution_count": null,
      "outputs": []
    },
    {
      "cell_type": "code",
      "source": [
        "missing = pd.DataFrame((bike_df.isnull().mean())*100).reset_index()\n",
        "plt.figure(figsize=(8,3))\n",
        "ax = sns.pointplot(data=missing,x=\"index\",y=0)\n",
        "plt.xticks(rotation =90,fontsize =7)\n",
        "plt.title(\"Percentage of Missing values\")\n",
        "plt.ylabel(\"PERCENTAGE\")\n",
        "plt.show()"
      ],
      "metadata": {
        "id": "2qGV3vQ9qU8R"
      },
      "execution_count": null,
      "outputs": []
    },
    {
      "cell_type": "markdown",
      "source": [
        "**Not found any missing values inside the dataset** "
      ],
      "metadata": {
        "id": "ipnSLr-pr-Zv"
      }
    },
    {
      "cell_type": "markdown",
      "source": [
        "### What did you know about your dataset?"
      ],
      "metadata": {
        "id": "H0kj-8xxnORC"
      }
    },
    {
      "cell_type": "code",
      "source": [
        "# Custom Function for Dtype,Unique values and Null values\n",
        "def bike_df_info():\n",
        "    bike = pd.DataFrame(index=bike_df.columns)\n",
        "    bike['DataType'] = bike_df.dtypes\n",
        "    bike[\"Non-null_Values\"] = bike_df.count()\n",
        "    bike['Unique_Values'] = bike_df.nunique().sort_values(ascending=True)\n",
        "    bike['NaN_Values'] = bike_df.isnull().sum()\n",
        "    bike['NaN_Values_Percentage'] = (bike['NaN_Values']/len(bike_df))*100 \n",
        "    return bike"
      ],
      "metadata": {
        "id": "hgUyJn-2sC76"
      },
      "execution_count": null,
      "outputs": []
    },
    {
      "cell_type": "code",
      "source": [
        "# Custom Function\n",
        "bike_df_info()"
      ],
      "metadata": {
        "id": "KgOkDwAzsHQr"
      },
      "execution_count": null,
      "outputs": []
    },
    {
      "cell_type": "markdown",
      "source": [
        "# Finding details from data:\n",
        "\n",
        "1. There are 14 features with 8760 rows of data.\n",
        "2. There are 4 categorical columns and 10 numerical columns. Columns ‘Date’, ‘Seasons’ and ‘Functioning Day’ are of 𝑜𝑏𝑗𝑒𝑐𝑡 data type\n",
        "3. Columns ‘Rented Bike Count’, ‘Hour’, ‘Humidity (%)' and ‘Visibility (10𝑚)' are of 𝑖𝑛𝑡64 numarical data type\n",
        "4. olumns ‘Temperature Temperature (℃)’, ‘Wind Speed (𝑚/𝑠)’, ‘Dew Point Temperature (℃)’,‘Solar Radiation (𝑀𝐽/𝑚2)’,‘Rainfall (𝑚𝑚)' and ‘Snowfall(𝑐𝑚) are of 𝑓𝑙𝑜𝑎𝑡64 numarical data type\n",
        "5. Not any null value present in any column\n",
        "6. Unique count : Seasons- 4 , Holiday- 2 , Functioning Day- 2, Date-365, Rented Bike Count-2166, Hour-24, Temperature(°C)-546 etc."
      ],
      "metadata": {
        "id": "gfoNAAC-nUe_"
      }
    },
    {
      "cell_type": "markdown",
      "source": [
        "## ***2. Understanding Your Variables***"
      ],
      "metadata": {
        "id": "nA9Y7ga8ng1Z"
      }
    },
    {
      "cell_type": "code",
      "source": [
        "# Dataset Columns\n",
        "print(\"Features of the dataset:\")\n",
        "bike_df.columns\n",
        "     "
      ],
      "metadata": {
        "id": "j7xfkqrt5Ag5"
      },
      "execution_count": null,
      "outputs": []
    },
    {
      "cell_type": "code",
      "source": [
        "# Dataset Describe\n",
        "bike_df.describe().T      #.T use for transpose the describe table"
      ],
      "metadata": {
        "id": "DnOaZdaE5Q5t"
      },
      "execution_count": null,
      "outputs": []
    },
    {
      "cell_type": "markdown",
      "source": [
        "### Variables Description "
      ],
      "metadata": {
        "id": "PBTbrJXOngz2"
      }
    },
    {
      "cell_type": "markdown",
      "source": [
        "**Breakdown of Our Features:**\n",
        "\n",
        "**Date :** The date of the day, during 365 days from 01/12/2017 to 30/11/2018, formating in DD/MM/YYYY, type : str, we need to convert into datetime format.\n",
        "\n",
        "**Rented Bike Count :** Number of rented bikes per hour which our dependent variable and we need to predict that, type : int\n",
        "\n",
        "**Hour:** The hour of the day, starting from 0-23 it's in a digital time format, type : int, we need to convert it into category data type.\n",
        "\n",
        "**Temperature(°C):** Temperature in Celsius, type : Float\n",
        "\n",
        "**Humidity(%):** Humidity in the air in %, type : int\n",
        "\n",
        "**Wind speed (m/s) :** Speed of the wind in m/s, type : Float\n",
        "\n",
        "**Visibility (10m):** Visibility in m, type : int\n",
        "\n",
        "**Dew point temperature(°C):** Temperature at the beggining of the day, type : Float\n",
        "\n",
        "**Solar Radiation (MJ/m2):** Sun contribution, type : Float\n",
        "\n",
        "**Rainfall(mm):** Amount of raining in mm, type : Float\n",
        "\n",
        "**Snowfall (cm):** Amount of snowing in cm, type : Float\n",
        "\n",
        "**Seasons:** Season of the year, type : str, there are only 4 season's in data .\n",
        "\n",
        "**Holiday:** If the day is holiday period or not, type: str\n",
        "\n",
        "**Functioning Day:** If the day is a Functioning Day or not, type : str"
      ],
      "metadata": {
        "id": "aJV4KIxSnxay"
      }
    },
    {
      "cell_type": "markdown",
      "source": [
        "### Check Unique Values for each variable."
      ],
      "metadata": {
        "id": "u3PMJOP6ngxN"
      }
    },
    {
      "cell_type": "markdown",
      "source": [
        "**Checking the possible values important and meaningful categorical columns can have**"
      ],
      "metadata": {
        "id": "hAJr9oK50HUC"
      }
    },
    {
      "cell_type": "code",
      "source": [
        "# Check Unique Values for each variable.\n",
        "print(bike_df[\"Seasons\"].unique())\n",
        "     "
      ],
      "metadata": {
        "id": "zms12Yq5n-jE"
      },
      "execution_count": null,
      "outputs": []
    },
    {
      "cell_type": "code",
      "source": [
        "print(bike_df[\"Holiday\"].unique())"
      ],
      "metadata": {
        "id": "LWDVl--U0Of3"
      },
      "execution_count": null,
      "outputs": []
    },
    {
      "cell_type": "code",
      "source": [
        "print(bike_df[\"Functioning Day\"].unique())"
      ],
      "metadata": {
        "id": "JO68LvNx0Uy9"
      },
      "execution_count": null,
      "outputs": []
    },
    {
      "cell_type": "markdown",
      "source": [
        "## 3. ***Data Wrangling***"
      ],
      "metadata": {
        "id": "dauF4eBmngu3"
      }
    },
    {
      "cell_type": "markdown",
      "source": [
        "### Data Wrangling Code"
      ],
      "metadata": {
        "id": "bKJF3rekwFvQ"
      }
    },
    {
      "cell_type": "code",
      "source": [
        "# Write your code to make your dataset analysis ready.\n",
        "\n",
        "#Rename the complex columns name\n",
        "bike_df=bike_df.rename(columns={'Rented Bike Count':'Rented_Bike_Count',\n",
        "                                'Temperature(°C)':'Temperature',\n",
        "                                'Humidity(%)':'Humidity',\n",
        "                                'Wind speed (m/s)':'Wind_speed',\n",
        "                                'Visibility (10m)':'Visibility',\n",
        "                                'Dew point temperature(°C)':'Dew_point_temperature',\n",
        "                                'Solar Radiation (MJ/m2)':'Solar_Radiation',\n",
        "                                'Rainfall(mm)':'Rainfall',\n",
        "                                'Snowfall (cm)':'Snowfall',\n",
        "                                'Functioning Day':'Functioning_Day'})"
      ],
      "metadata": {
        "id": "wk-9a2fpoLcV"
      },
      "execution_count": null,
      "outputs": []
    },
    {
      "cell_type": "code",
      "source": [
        "bike_df.head(2)"
      ],
      "metadata": {
        "id": "h5rw1kHqV9KX"
      },
      "execution_count": null,
      "outputs": []
    },
    {
      "cell_type": "code",
      "source": [
        "bike_df.columns.values"
      ],
      "metadata": {
        "id": "DM7RuWr5WBRc"
      },
      "execution_count": null,
      "outputs": []
    },
    {
      "cell_type": "code",
      "source": [
        "bike_df.groupby(\"Functioning_Day\")[\"Rented_Bike_Count\"].sum().sort_values(ascending=False).reset_index()\n",
        "     \n"
      ],
      "metadata": {
        "id": "TszwRA2kX3wQ"
      },
      "execution_count": null,
      "outputs": []
    },
    {
      "cell_type": "markdown",
      "source": [
        "**As per diagnosis data found that rental bike only given on Functioning Day,So remove Functioning Day Column.**"
      ],
      "metadata": {
        "id": "vUVPR9ILX-hc"
      }
    },
    {
      "cell_type": "code",
      "source": [
        "#Due to not unsefull in Functioning Day Column ,remove Functioning Day Column\n",
        "bike_df1=bike_df.drop([\"Functioning_Day\"],axis=1)"
      ],
      "metadata": {
        "id": "CW-u0VcWX9q9"
      },
      "execution_count": null,
      "outputs": []
    },
    {
      "cell_type": "code",
      "source": [
        "#check the new shape of the dataset\n",
        "print(f\"New shape of the dataset is {bike_df1.shape}\")\n",
        "     "
      ],
      "metadata": {
        "id": "H5q1ClujcVTO"
      },
      "execution_count": null,
      "outputs": []
    },
    {
      "cell_type": "code",
      "source": [
        "#convert datetime to datatype\n",
        "import datetime as dt\n",
        "bike_df1['Date'] = bike_df1['Date'].apply(lambda x: dt.datetime.strptime(x,\"%d/%m/%Y\"))\n",
        "     "
      ],
      "metadata": {
        "id": "Dy9M14J7dV3Y"
      },
      "execution_count": null,
      "outputs": []
    },
    {
      "cell_type": "code",
      "source": [
        "#Seperate Day, Month, Year from DataFrame Column\n",
        "bike_df1['Day']=bike_df1['Date'].dt.day_name()\n",
        "bike_df1['Month']=bike_df1['Date'].dt.month_name()\n",
        "bike_df1['Year']=bike_df1['Date'].dt.year"
      ],
      "metadata": {
        "id": "4hu3NK-XsE37"
      },
      "execution_count": null,
      "outputs": []
    },
    {
      "cell_type": "code",
      "source": [
        "bike_df1.head(10)"
      ],
      "metadata": {
        "id": "0sGKJ8SksWVr"
      },
      "execution_count": null,
      "outputs": []
    },
    {
      "cell_type": "code",
      "source": [
        "bike_df1[\"Year\"].unique()"
      ],
      "metadata": {
        "id": "cNCJjuXCvk3K"
      },
      "execution_count": null,
      "outputs": []
    },
    {
      "cell_type": "code",
      "source": [
        "#creating a new column of \"weekdays_weekend\" and drop the column \"Date\",\"day\",\"year\"\n",
        "bike_df1['weekdays_weekend']=bike_df1['Day'].apply(lambda x : 1 if x=='Saturday' or x=='Sunday' else 0 )\n",
        "bike_df1=bike_df1.drop(columns=['Date','Day','Year'],axis=1)\n",
        "     "
      ],
      "metadata": {
        "id": "FCZwPclU2xUl"
      },
      "execution_count": null,
      "outputs": []
    },
    {
      "cell_type": "code",
      "source": [
        "bike_df1.info()"
      ],
      "metadata": {
        "id": "ZmkUSn1G6X6y"
      },
      "execution_count": null,
      "outputs": []
    },
    {
      "cell_type": "code",
      "source": [
        "bike_df1.head(2)"
      ],
      "metadata": {
        "id": "TV99WjkJtZni"
      },
      "execution_count": null,
      "outputs": []
    },
    {
      "cell_type": "code",
      "source": [
        "bike_df1['weekdays_weekend'].value_counts()\n",
        "     "
      ],
      "metadata": {
        "id": "2_VxCYgy6g6j"
      },
      "execution_count": null,
      "outputs": []
    },
    {
      "cell_type": "code",
      "source": [
        "#Change the int64 column into catagory column\n",
        "columns1=['Hour','Seasons','Holiday','Month','weekdays_weekend']\n",
        "for col in columns1:\n",
        "  bike_df1[col]=bike_df1[col].astype('category')"
      ],
      "metadata": {
        "id": "cFaZCM_Q88wV"
      },
      "execution_count": null,
      "outputs": []
    },
    {
      "cell_type": "code",
      "source": [
        "#Change the int64 column into float column\n",
        "columns2=[\"Rented_Bike_Count\",\"Humidity\",\"Visibility\"]\n",
        "for col in columns2:\n",
        "  bike_df1[col]=bike_df1[col].astype('float')\n",
        "     "
      ],
      "metadata": {
        "id": "AMwn-DSruMTK"
      },
      "execution_count": null,
      "outputs": []
    },
    {
      "cell_type": "code",
      "source": [
        "#let's check the result of data type\n",
        "bike_df1.info()"
      ],
      "metadata": {
        "id": "AHMmJlFmuT17"
      },
      "execution_count": null,
      "outputs": []
    },
    {
      "cell_type": "code",
      "source": [
        "bike_df1.columns\n",
        "     "
      ],
      "metadata": {
        "id": "hdhljpnGuYaL"
      },
      "execution_count": null,
      "outputs": []
    },
    {
      "cell_type": "markdown",
      "source": [
        "## percentage of missing values in each column"
      ],
      "metadata": {
        "id": "RIUhS_GSr4bs"
      }
    },
    {
      "cell_type": "code",
      "source": [
        "pd.options.display.float_format = '{:,.2f} %'.format\n",
        "print((bike_df1.isnull().sum()/len(bike_df1))*100)\n",
        "pd.options.display.float_format = '{:,.2f}'.format"
      ],
      "metadata": {
        "id": "7PHeHngmr05U"
      },
      "execution_count": null,
      "outputs": []
    },
    {
      "cell_type": "code",
      "source": [
        "bike_df1.info()"
      ],
      "metadata": {
        "id": "C9AbXdlssPn1"
      },
      "execution_count": null,
      "outputs": []
    },
    {
      "cell_type": "markdown",
      "source": [
        "### What all manipulations have you done and insights you found?"
      ],
      "metadata": {
        "id": "MSa1f5Uengrz"
      }
    },
    {
      "cell_type": "markdown",
      "source": [
        "1. As per diagnosis data found that rental bike only given on Functioning Day, remove Functioning Day Column.\n",
        "2. So we convert the \"date\" column into 3 different column i.e \"year\",\"month\",day\".\n",
        "3. The \"year\" column in our data set is basically contain the 2 unique number contains the details of from 2017 december to 2018 november so if i consider this is a one year then we don't need the \"year\" column so we drop it.\n",
        "4. The other column \"day\", it contains the details about the each day of the month, for our relevence we don't need each day of each month data but we need the data about, if a day is a weekday or a weekend so we convert it into this format and drop the \"day\" column.\n",
        "5. As \"Hour\",\"month\",\"weekdays_weekend\" column are show as a integer data type but actually it is a category data tyepe. so we need to change this data tyepe if we not then, while doing the further anlysis and correleted with this then the values are not actually true so we can mislead by this."
      ],
      "metadata": {
        "id": "LbyXE7I1olp8"
      }
    },
    {
      "cell_type": "markdown",
      "source": [
        "## ***4. Data Vizualization, Storytelling & Experimenting with charts : Understand the relationships between variables***"
      ],
      "metadata": {
        "id": "GF8Ens_Soomf"
      }
    },
    {
      "cell_type": "markdown",
      "source": [
        "**Let's explore the data by visualizing the distribution of values in some columns of the dataset, and the relationships between \"Rented Bike count\" and other columns.**\n",
        "\n",
        "**We'll use libraries Matplotlib, Seaborn for visualization.**"
      ],
      "metadata": {
        "id": "t5fSBqmQVg4J"
      }
    },
    {
      "cell_type": "markdown",
      "source": [
        "#### Chart - 1"
      ],
      "metadata": {
        "id": "0wOQAZs5pc--"
      }
    },
    {
      "cell_type": "markdown",
      "source": [
        "## Chart - 1 Relation between 'Month' and 'Rented_bike_count'"
      ],
      "metadata": {
        "id": "v5Bo2m2xVudB"
      }
    },
    {
      "cell_type": "code",
      "source": [
        "bike_df1.head(2)"
      ],
      "metadata": {
        "id": "rJX9buPeV0ic"
      },
      "execution_count": null,
      "outputs": []
    },
    {
      "cell_type": "code",
      "source": [
        "# Chart - 1 visualization code\n",
        "\n",
        "fig,ax=plt.subplots(figsize=(14,7))\n",
        "sns.barplot(data=bike_df1,x='Month',y='Rented_Bike_Count',ax=ax,capsize=.2)\n",
        "ax.set(title='Count of Rented bikes acording to Month ')\n",
        "     "
      ],
      "metadata": {
        "id": "7v_ESjsspbW7"
      },
      "execution_count": null,
      "outputs": []
    },
    {
      "cell_type": "markdown",
      "source": [
        "##### 1. Why did you pick the specific chart?"
      ],
      "metadata": {
        "id": "K5QZ13OEpz2H"
      }
    },
    {
      "cell_type": "markdown",
      "source": [
        "To see the distribution of the Rented_bike_count in each month"
      ],
      "metadata": {
        "id": "XESiWehPqBRc"
      }
    },
    {
      "cell_type": "markdown",
      "source": [
        "##### 2. What is/are the insight(s) found from the chart?"
      ],
      "metadata": {
        "id": "lQ7QKXXCp7Bj"
      }
    },
    {
      "cell_type": "markdown",
      "source": [
        "From the above bar plot we can clearly say that from the month June, JULY, May to October or september the demand of the rented bike is high as compare to other months.\n",
        "\n"
      ],
      "metadata": {
        "id": "C_j1G7yiqdRP"
      }
    },
    {
      "cell_type": "markdown",
      "source": [
        "##### 3. Will the gained insights help creating a positive business impact? \n",
        "Are there any insights that lead to negative growth? Justify with specific reason."
      ],
      "metadata": {
        "id": "448CDAPjqfQr"
      }
    },
    {
      "cell_type": "markdown",
      "source": [
        "\n",
        "\n",
        "In the summer season the rented bike business will go high as compare to winter season."
      ],
      "metadata": {
        "id": "3cspy4FjqxJW"
      }
    },
    {
      "cell_type": "markdown",
      "source": [
        "#### Chart - 2"
      ],
      "metadata": {
        "id": "KSlN3yHqYklG"
      }
    },
    {
      "cell_type": "markdown",
      "source": [
        "## Count of Rented bikes according to Weekdays_Weekend and Time"
      ],
      "metadata": {
        "id": "6JC_H0CfYB_6"
      }
    },
    {
      "cell_type": "code",
      "source": [
        "bike_df1.head(2)"
      ],
      "metadata": {
        "id": "np67VH3kiPF-"
      },
      "execution_count": null,
      "outputs": []
    },
    {
      "cell_type": "code",
      "source": [
        "\n",
        "# mean distribution of Rented bike betwwn weekdays and weeend\n",
        "bike_df1.groupby(\"weekdays_weekend\")[\"Rented_Bike_Count\"].mean().reset_index()\n",
        "     \n"
      ],
      "metadata": {
        "id": "dEkIpRVhiS5n"
      },
      "execution_count": null,
      "outputs": []
    },
    {
      "cell_type": "code",
      "source": [
        "# Chart - 2 visualization code\n",
        "fig,ax=plt.subplots(figsize=(10,8))\n",
        "sns.barplot(data=bike_df1,x='weekdays_weekend',y='Rented_Bike_Count',ax=ax,capsize=.2)\n",
        "ax.set(title='Count of Rented bikes according to weekdays and weekend ')\n",
        "plt.show()"
      ],
      "metadata": {
        "id": "R4YgtaqtYklH"
      },
      "execution_count": null,
      "outputs": []
    },
    {
      "cell_type": "code",
      "source": [
        "# visualization code\n",
        "fig,ax=plt.subplots(figsize=(14,7))\n",
        "sns.pointplot(data=bike_df1,x='Hour',y='Rented_Bike_Count',hue='weekdays_weekend',ax=ax)\n",
        "ax.set(title='Count of Rented bikes acording to weekdays_weekend ')\n",
        "plt.show()"
      ],
      "metadata": {
        "id": "ZPZlg3Citkyc"
      },
      "execution_count": null,
      "outputs": []
    },
    {
      "cell_type": "markdown",
      "source": [
        "##### 1. Why did you pick the specific chart?"
      ],
      "metadata": {
        "id": "t6dVpIINYklI"
      }
    },
    {
      "cell_type": "markdown",
      "source": [
        "To see the distribution of use of Rented bikes acording to weekdays_weekend and time ."
      ],
      "metadata": {
        "id": "5aaW0BYyYklI"
      }
    },
    {
      "cell_type": "markdown",
      "source": [
        "##### 2. What is/are the insight(s) found from the chart?"
      ],
      "metadata": {
        "id": "ijmpgYnKYklI"
      }
    },
    {
      "cell_type": "markdown",
      "source": [
        "1. From the above bar plot we can clearly say that the mean distribution of rented bike between Weekdays and weekend is almost same.\n",
        "But in weekdays its slightly higher due to office and weekend its slightly lower.\n",
        "\n",
        "2. From the above point plot and bar plot we can say that in the week days which represent in blue colur show that the demand of the bike higher because of the office.\n",
        "Peak Time are 7 am to 9 am and 5 pm to 7 pm\n",
        "\n",
        "3. The orange colur represent the weekend days, and it show that the demand of rented bikes are very low specially in the morning hour but when the evening start from 4 pm to 8 pm the demand slightly increases."
      ],
      "metadata": {
        "id": "PSx9atu2YklI"
      }
    },
    {
      "cell_type": "markdown",
      "source": [
        "##### 3. Will the gained insights help creating a positive business impact? \n",
        "Are there any insights that lead to negative growth? Justify with specific reason."
      ],
      "metadata": {
        "id": "-JiQyfWJYklI"
      }
    },
    {
      "cell_type": "markdown",
      "source": [
        "\n",
        "\n",
        "From the above graph we can say that we can run the business in entire week. and It will not affect our profit margins.\n",
        "\n",
        "Weekdays in office time between 7 am to 9 am and 5pm to 7pm the demand of rented bike increases\n",
        "\n",
        "Similarly in weekend from 4pm to 8pm the demand slightly increases compare to others time."
      ],
      "metadata": {
        "id": "BcBbebzrYklV"
      }
    },
    {
      "cell_type": "markdown",
      "source": [
        "#### Chart - 3"
      ],
      "metadata": {
        "id": "EM7whBJCYoAo"
      }
    },
    {
      "cell_type": "markdown",
      "source": [
        "## Relation between Rented Bikes count and Hours"
      ],
      "metadata": {
        "id": "ATrRu1iQwPqf"
      }
    },
    {
      "cell_type": "code",
      "source": [
        "bike_df1.head(2)"
      ],
      "metadata": {
        "id": "BVLDyTafwXyL"
      },
      "execution_count": null,
      "outputs": []
    },
    {
      "cell_type": "code",
      "source": [
        "# Chart - 3 visualization code\n",
        "fig,ax=plt.subplots(figsize=(14,7))\n",
        "sns.barplot(data=bike_df,x='Hour',y='Rented_Bike_Count',ax=ax,capsize=.2)\n",
        "ax.set(title='Count of Rented bikes acording to Hour ')\n",
        "plt.show()"
      ],
      "metadata": {
        "id": "t6GMdE67YoAp"
      },
      "execution_count": null,
      "outputs": []
    },
    {
      "cell_type": "markdown",
      "source": [
        "##### 1. Why did you pick the specific chart?"
      ],
      "metadata": {
        "id": "fge-S5ZAYoAp"
      }
    },
    {
      "cell_type": "markdown",
      "source": [
        "To see the use of rented bike according the hours."
      ],
      "metadata": {
        "id": "5dBItgRVYoAp"
      }
    },
    {
      "cell_type": "markdown",
      "source": [
        "##### 2. What is/are the insight(s) found from the chart?"
      ],
      "metadata": {
        "id": "85gYPyotYoAp"
      }
    },
    {
      "cell_type": "markdown",
      "source": [
        "In the above plot which shows the use of rented bike according the hours and the data are from all over the year.generally people use rented bikes during their working hour from 7am to 9am and 5pm to 7pm."
      ],
      "metadata": {
        "id": "4jstXR6OYoAp"
      }
    },
    {
      "cell_type": "markdown",
      "source": [
        "##### 3. Will the gained insights help creating a positive business impact? \n",
        "Are there any insights that lead to negative growth? Justify with specific reason."
      ],
      "metadata": {
        "id": "RoGjAbkUYoAp"
      }
    },
    {
      "cell_type": "markdown",
      "source": [
        "\n",
        "\n",
        "From the above graph which show that maximum demend of rented bikes comes at the time working hour from 7am to 9am and 5pm to 7pm and\n",
        "\n",
        "minimum demend of rented bikes comes in the morning ."
      ],
      "metadata": {
        "id": "zfJ8IqMcYoAp"
      }
    },
    {
      "cell_type": "markdown",
      "source": [
        "#### Chart - 4"
      ],
      "metadata": {
        "id": "4Of9eVA-YrdM"
      }
    },
    {
      "cell_type": "markdown",
      "source": [
        "## Count of Rented bikes according to *Seasons*"
      ],
      "metadata": {
        "id": "JGm4hxeZ9SWG"
      }
    },
    {
      "cell_type": "code",
      "source": [
        "bike_df1.head(2)"
      ],
      "metadata": {
        "id": "ZHFkPVc09bid"
      },
      "execution_count": null,
      "outputs": []
    },
    {
      "cell_type": "code",
      "source": [
        "# Chart - 4 visualization code\n",
        "\n",
        "fig,ax=plt.subplots(figsize=(14,7))\n",
        "sns.barplot(data=bike_df1,x=\"Seasons\",y=\"Rented_Bike_Count\",ax=ax,capsize=.2)\n",
        "ax.set(title=\"Count of Rented bikes according to Seasons\")\n",
        "plt.show()"
      ],
      "metadata": {
        "id": "irlUoxc8YrdO"
      },
      "execution_count": null,
      "outputs": []
    },
    {
      "cell_type": "code",
      "source": [
        "# visualization code\n",
        "fig,ax=plt.subplots(figsize=(14,7))\n",
        "sns.pointplot(data=bike_df1,x='Hour',y='Rented_Bike_Count',hue='Seasons',ax=ax)\n",
        "ax.set(title='Count of Rented bikes according to Seasons')\n",
        "plt.show()"
      ],
      "metadata": {
        "id": "9-C1jEdtEexd"
      },
      "execution_count": null,
      "outputs": []
    },
    {
      "cell_type": "markdown",
      "source": [
        "##### 1. Why did you pick the specific chart?"
      ],
      "metadata": {
        "id": "iky9q4vBYrdO"
      }
    },
    {
      "cell_type": "markdown",
      "source": [
        "*To see the distribution of use of Rented bikes acording to Seasons .*"
      ],
      "metadata": {
        "id": "aJRCwT6DYrdO"
      }
    },
    {
      "cell_type": "markdown",
      "source": [
        "##### 2. What is/are the insight(s) found from the chart?"
      ],
      "metadata": {
        "id": "F6T5p64dYrdO"
      }
    },
    {
      "cell_type": "markdown",
      "source": [
        "In the above bar plot and point plot which shows the use of rented bike in in four different seasons, and it clearly shows that,\n",
        "\n",
        "1. In summer season the use of rented bike is high and peak time is 7am-9am and 7pm-5pm.\n",
        "\n",
        "2. In winter season the use of rented bike is very low because of snowfall."
      ],
      "metadata": {
        "id": "Xx8WAJvtYrdO"
      }
    },
    {
      "cell_type": "markdown",
      "source": [
        "##### 3. Will the gained insights help creating a positive business impact? \n",
        "Are there any insights that lead to negative growth? Justify with specific reason."
      ],
      "metadata": {
        "id": "y-Ehk30pYrdP"
      }
    },
    {
      "cell_type": "markdown",
      "source": [
        "In summer, Spring and Autumn seasons the use of rented bike are high so it is profitable to do business in that time. And at the time of summer we will get maxium profit.\n",
        "\n",
        "In winter season the use of rented bike is very low because of snowfall. Due to that we will get minimum profit mergin."
      ],
      "metadata": {
        "id": "jLNxxz7MYrdP"
      }
    },
    {
      "cell_type": "markdown",
      "source": [
        "#### Chart - 5"
      ],
      "metadata": {
        "id": "bamQiAODYuh1"
      }
    },
    {
      "cell_type": "markdown",
      "source": [
        "## Pie Chart Use Analysing Categorical Variable season observation and holiday observation"
      ],
      "metadata": {
        "id": "N2DZ_Ay8QIE9"
      }
    },
    {
      "cell_type": "code",
      "source": [
        "# Chart - 5 season visualization code\n",
        "season_var=pd.crosstab(index=bike_df1['Seasons'],columns='% observations')\n",
        "plt.pie(season_var['% observations'],labels=season_var['% observations'].index,autopct='%.0f%%')\n",
        "plt.title('Seasons')\n",
        "plt.show()"
      ],
      "metadata": {
        "id": "TIJwrbroYuh3"
      },
      "execution_count": null,
      "outputs": []
    },
    {
      "cell_type": "code",
      "source": [
        "# Holiday visualization\n",
        "holiday_var=pd.crosstab(index=bike_df1['Holiday'],columns='% observations')\n",
        "plt.pie(holiday_var['% observations'],labels=holiday_var['% observations'].index,autopct='%.0f%%')\n",
        "plt.title('Holiday')\n",
        "plt.show()"
      ],
      "metadata": {
        "id": "wqlieHehRcCM"
      },
      "execution_count": null,
      "outputs": []
    },
    {
      "cell_type": "markdown",
      "source": [
        "##### 1. Why did you pick the specific chart?"
      ],
      "metadata": {
        "id": "QHF8YVU7Yuh3"
      }
    },
    {
      "cell_type": "markdown",
      "source": [
        "In this chart use categorical variable observation check"
      ],
      "metadata": {
        "id": "dcxuIMRPYuh3"
      }
    },
    {
      "cell_type": "markdown",
      "source": [
        "##### 2. What is/are the insight(s) found from the chart?"
      ],
      "metadata": {
        "id": "GwzvFGzlYuh3"
      }
    },
    {
      "cell_type": "markdown",
      "source": [
        "1. In pie chart season observation Spring 25%, Summer 25%, Winter 25%, Autumn 25% hold all four season are same observation\n",
        "\n",
        "2. pie chart use Holiday observation after No-holiday 95% or holiday 5%"
      ],
      "metadata": {
        "id": "uyqkiB8YYuh3"
      }
    },
    {
      "cell_type": "markdown",
      "source": [
        "##### 3. Will the gained insights help creating a positive business impact? \n",
        "Are there any insights that lead to negative growth? Justify with specific reason."
      ],
      "metadata": {
        "id": "qYpmQ266Yuh3"
      }
    },
    {
      "cell_type": "markdown",
      "source": [
        "1. In business prospective season observation after all season 25% stack hold \n",
        "2. holiday observation 95% No-holiday is mainly positive result impact in this business but 5% holiday is negative impact compare to No-holiday"
      ],
      "metadata": {
        "id": "_WtzZ_hCYuh4"
      }
    },
    {
      "cell_type": "markdown",
      "source": [
        "#### Chart - 6"
      ],
      "metadata": {
        "id": "OH-pJp9IphqM"
      }
    },
    {
      "cell_type": "markdown",
      "source": [
        "## Analyze of Numerical variables"
      ],
      "metadata": {
        "id": "FLPHzCAIYRRk"
      }
    },
    {
      "cell_type": "code",
      "source": [
        "# Chart - 6 visualization code\n",
        "bike_df1.head(2)"
      ],
      "metadata": {
        "id": "kuRf4wtuphqN"
      },
      "execution_count": null,
      "outputs": []
    },
    {
      "cell_type": "code",
      "source": [
        "bike_df1.info()"
      ],
      "metadata": {
        "id": "1J3fXgO9YX16"
      },
      "execution_count": null,
      "outputs": []
    },
    {
      "cell_type": "code",
      "source": [
        "#if dtype is not Equal to object type then its a num data\n",
        "numerical_features=[col for col in bike_df1.columns if bike_df1[col].dtype==\"float\"]\n",
        "numerical_features\n",
        "     "
      ],
      "metadata": {
        "id": "3Pjn8OgjYZA1"
      },
      "execution_count": null,
      "outputs": []
    },
    {
      "cell_type": "code",
      "source": [
        "# Seprate dataframe for Numerical feature\n",
        "num_data=bike_df1[numerical_features]\n",
        "num_data.head(5)"
      ],
      "metadata": {
        "id": "ET8Wus-MYZOE"
      },
      "execution_count": null,
      "outputs": []
    },
    {
      "cell_type": "code",
      "source": [
        "for column in numerical_features :\n",
        "  fig = plt.figure(figsize=(6, 3))\n",
        "  sns.distplot(bike_df1[column])\n",
        "  feature = bike_df1[column]\n",
        "  ax = fig.gca()\n",
        "  ax.axvline(feature.mean(), color='#ff033e', linestyle='dashed', linewidth=2)  #Rose-Red Color indicate mean of data\n",
        "  ax.axvline(feature.median(), color='#00ffff', linestyle='dashed', linewidth=2) #Cyan indicate median of data\n",
        "  plt.title(f'{column.title()}')"
      ],
      "metadata": {
        "id": "euR3LTGjYzCh"
      },
      "execution_count": null,
      "outputs": []
    },
    {
      "cell_type": "code",
      "source": [
        "for index,column in enumerate(numerical_features) :\n",
        "  plt.subplot(5,2,index+1)\n",
        "  sns.distplot(bike_df1[column])\n",
        "  feature = bike_df1[column]\n",
        "  ax = fig.gca()\n",
        "  ax.axvline(feature.mean(), color='#ff033e', linestyle='dashed', linewidth=2)  #Rose-Red Color indicate mean of data\n",
        "  ax.axvline(feature.median(), color='#00ffff', linestyle='dashed', linewidth=2) #Cyan indicate median of data\n",
        "  plt.title(f'{column.title()}')"
      ],
      "metadata": {
        "id": "4EMbNWQQeFDo"
      },
      "execution_count": null,
      "outputs": []
    },
    {
      "cell_type": "markdown",
      "source": [
        "##### 1. Why did you pick the specific chart?"
      ],
      "metadata": {
        "id": "bbFf2-_FphqN"
      }
    },
    {
      "cell_type": "markdown",
      "source": [
        "For and check distribution of numerical and analyse it in the dataset."
      ],
      "metadata": {
        "id": "loh7H2nzphqN"
      }
    },
    {
      "cell_type": "markdown",
      "source": [
        "##### 2. What is/are the insight(s) found from the chart?"
      ],
      "metadata": {
        "id": "_ouA3fa0phqN"
      }
    },
    {
      "cell_type": "markdown",
      "source": [
        "1. From the above plot which shows that mean ranted bike count was 650 and ranted bike count maximum goes to above 3000 in a day.and this is right skew distribution.\n",
        "\n",
        "2. From the above plot which shows that mean temperatur was 14 degree and the maximum distribution lies between 0 to 30 degree celsius.\n",
        "\n",
        "3. From the above plot which shows that mean Humidity was 58.\n",
        "\n",
        "4. From the above plot which shows that mean wind speed in the year was 1.7 m/s and its normal.\n",
        "\n",
        "5. From the above plot which shows that the maximum days visibility was good and the mean visibility in the year was 1700.\n",
        "\n",
        "6. From the above plot which shows that the mean Dew poin temperation was 5 degC.and the maximum distribution lies between -5 to +25 deg\n",
        "\n",
        "7. From the above plot which shows that mean solar radiation lies about 0.6 and maimum days solar radiation lies close to zero.\n",
        "\n",
        "8. From the above plot which shows that in a year maximum days were dry.\n",
        "\n",
        "9. From the above plot which shows that in a year maximum days sky was clear and did not have snowfall."
      ],
      "metadata": {
        "id": "VECbqPI7phqN"
      }
    },
    {
      "cell_type": "code",
      "source": [
        "\n",
        "bike_df1.agg(['skew','kurtosis']).T"
      ],
      "metadata": {
        "id": "wJcVZ1e_fw97"
      },
      "execution_count": null,
      "outputs": []
    },
    {
      "cell_type": "markdown",
      "source": [
        "![download (3).png](data:image/png;base64,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)"
      ],
      "metadata": {
        "id": "2DPPaVC9g-B1"
      }
    },
    {
      "cell_type": "markdown",
      "source": [
        "Right/Positive Skewed Distribution: Mode < Median < Mean: Rented Bike Count, Wind Speed, Solar Radiation\n",
        "\n",
        "No Skew: Mean = Median = Mode : Hour, Temperature, Humidity(%),Rainfall(mm),Snowfall(cm)\n",
        "\n",
        "Left/Negative Skewed Distribution: Mean < Median < Mode: visibility(10m),Teperature"
      ],
      "metadata": {
        "id": "mMNb7lvNgVW7"
      }
    },
    {
      "cell_type": "markdown",
      "source": [
        "#### Chart - 7"
      ],
      "metadata": {
        "id": "PIIx-8_IphqN"
      }
    },
    {
      "cell_type": "code",
      "source": [
        "# Chart - 7 visualization code"
      ],
      "metadata": {
        "id": "lqAIGUfyphqO"
      },
      "execution_count": null,
      "outputs": []
    },
    {
      "cell_type": "markdown",
      "source": [
        "##### 1. Why did you pick the specific chart?"
      ],
      "metadata": {
        "id": "t27r6nlMphqO"
      }
    },
    {
      "cell_type": "markdown",
      "source": [
        "Answer Here."
      ],
      "metadata": {
        "id": "iv6ro40sphqO"
      }
    },
    {
      "cell_type": "markdown",
      "source": [
        "##### 2. What is/are the insight(s) found from the chart?"
      ],
      "metadata": {
        "id": "r2jJGEOYphqO"
      }
    },
    {
      "cell_type": "markdown",
      "source": [
        "Answer Here"
      ],
      "metadata": {
        "id": "Po6ZPi4hphqO"
      }
    },
    {
      "cell_type": "markdown",
      "source": [
        "##### 3. Will the gained insights help creating a positive business impact? \n",
        "Are there any insights that lead to negative growth? Justify with specific reason."
      ],
      "metadata": {
        "id": "b0JNsNcRphqO"
      }
    },
    {
      "cell_type": "markdown",
      "source": [
        "Answer Here"
      ],
      "metadata": {
        "id": "xvSq8iUTphqO"
      }
    },
    {
      "cell_type": "markdown",
      "source": [
        "#### Chart - 8"
      ],
      "metadata": {
        "id": "BZR9WyysphqO"
      }
    },
    {
      "cell_type": "code",
      "source": [
        "# Chart - 8 visualization code"
      ],
      "metadata": {
        "id": "TdPTWpAVphqO"
      },
      "execution_count": null,
      "outputs": []
    },
    {
      "cell_type": "markdown",
      "source": [
        "##### 1. Why did you pick the specific chart?"
      ],
      "metadata": {
        "id": "jj7wYXLtphqO"
      }
    },
    {
      "cell_type": "markdown",
      "source": [
        "Answer Here."
      ],
      "metadata": {
        "id": "Ob8u6rCTphqO"
      }
    },
    {
      "cell_type": "markdown",
      "source": [
        "##### 2. What is/are the insight(s) found from the chart?"
      ],
      "metadata": {
        "id": "eZrbJ2SmphqO"
      }
    },
    {
      "cell_type": "markdown",
      "source": [
        "Answer Here"
      ],
      "metadata": {
        "id": "mZtgC_hjphqO"
      }
    },
    {
      "cell_type": "markdown",
      "source": [
        "##### 3. Will the gained insights help creating a positive business impact? \n",
        "Are there any insights that lead to negative growth? Justify with specific reason."
      ],
      "metadata": {
        "id": "rFu4xreNphqO"
      }
    },
    {
      "cell_type": "markdown",
      "source": [
        "Answer Here"
      ],
      "metadata": {
        "id": "ey_0qi68phqO"
      }
    },
    {
      "cell_type": "markdown",
      "source": [
        "#### Chart - 9"
      ],
      "metadata": {
        "id": "YJ55k-q6phqO"
      }
    },
    {
      "cell_type": "code",
      "source": [
        "# Chart - 9 visualization code"
      ],
      "metadata": {
        "id": "B2aS4O1ophqO"
      },
      "execution_count": null,
      "outputs": []
    },
    {
      "cell_type": "markdown",
      "source": [
        "##### 1. Why did you pick the specific chart?"
      ],
      "metadata": {
        "id": "gCFgpxoyphqP"
      }
    },
    {
      "cell_type": "markdown",
      "source": [
        "Answer Here."
      ],
      "metadata": {
        "id": "TVxDimi2phqP"
      }
    },
    {
      "cell_type": "markdown",
      "source": [
        "##### 2. What is/are the insight(s) found from the chart?"
      ],
      "metadata": {
        "id": "OVtJsKN_phqQ"
      }
    },
    {
      "cell_type": "markdown",
      "source": [
        "Answer Here"
      ],
      "metadata": {
        "id": "ngGi97qjphqQ"
      }
    },
    {
      "cell_type": "markdown",
      "source": [
        "##### 3. Will the gained insights help creating a positive business impact? \n",
        "Are there any insights that lead to negative growth? Justify with specific reason."
      ],
      "metadata": {
        "id": "lssrdh5qphqQ"
      }
    },
    {
      "cell_type": "markdown",
      "source": [
        "Answer Here"
      ],
      "metadata": {
        "id": "tBpY5ekJphqQ"
      }
    },
    {
      "cell_type": "markdown",
      "source": [
        "#### Chart - 10"
      ],
      "metadata": {
        "id": "U2RJ9gkRphqQ"
      }
    },
    {
      "cell_type": "code",
      "source": [
        "# Chart - 10 visualization code"
      ],
      "metadata": {
        "id": "GM7a4YP4phqQ"
      },
      "execution_count": null,
      "outputs": []
    },
    {
      "cell_type": "markdown",
      "source": [
        "##### 1. Why did you pick the specific chart?"
      ],
      "metadata": {
        "id": "1M8mcRywphqQ"
      }
    },
    {
      "cell_type": "markdown",
      "source": [
        "Answer Here."
      ],
      "metadata": {
        "id": "8agQvks0phqQ"
      }
    },
    {
      "cell_type": "markdown",
      "source": [
        "##### 2. What is/are the insight(s) found from the chart?"
      ],
      "metadata": {
        "id": "tgIPom80phqQ"
      }
    },
    {
      "cell_type": "markdown",
      "source": [
        "Answer Here"
      ],
      "metadata": {
        "id": "Qp13pnNzphqQ"
      }
    },
    {
      "cell_type": "markdown",
      "source": [
        "##### 3. Will the gained insights help creating a positive business impact? \n",
        "Are there any insights that lead to negative growth? Justify with specific reason."
      ],
      "metadata": {
        "id": "JMzcOPDDphqR"
      }
    },
    {
      "cell_type": "markdown",
      "source": [
        "Answer Here"
      ],
      "metadata": {
        "id": "R4Ka1PC2phqR"
      }
    },
    {
      "cell_type": "markdown",
      "source": [
        "#### Chart - 11"
      ],
      "metadata": {
        "id": "x-EpHcCOp1ci"
      }
    },
    {
      "cell_type": "code",
      "source": [
        "# Chart - 11 visualization code"
      ],
      "metadata": {
        "id": "mAQTIvtqp1cj"
      },
      "execution_count": null,
      "outputs": []
    },
    {
      "cell_type": "markdown",
      "source": [
        "##### 1. Why did you pick the specific chart?"
      ],
      "metadata": {
        "id": "X_VqEhTip1ck"
      }
    },
    {
      "cell_type": "markdown",
      "source": [
        "Answer Here."
      ],
      "metadata": {
        "id": "-vsMzt_np1ck"
      }
    },
    {
      "cell_type": "markdown",
      "source": [
        "##### 2. What is/are the insight(s) found from the chart?"
      ],
      "metadata": {
        "id": "8zGJKyg5p1ck"
      }
    },
    {
      "cell_type": "markdown",
      "source": [
        "Answer Here"
      ],
      "metadata": {
        "id": "ZYdMsrqVp1ck"
      }
    },
    {
      "cell_type": "markdown",
      "source": [
        "##### 3. Will the gained insights help creating a positive business impact? \n",
        "Are there any insights that lead to negative growth? Justify with specific reason."
      ],
      "metadata": {
        "id": "PVzmfK_Ep1ck"
      }
    },
    {
      "cell_type": "markdown",
      "source": [
        "Answer Here"
      ],
      "metadata": {
        "id": "druuKYZpp1ck"
      }
    },
    {
      "cell_type": "markdown",
      "source": [
        "#### Chart - 12"
      ],
      "metadata": {
        "id": "n3dbpmDWp1ck"
      }
    },
    {
      "cell_type": "code",
      "source": [
        "# Chart - 12 visualization code"
      ],
      "metadata": {
        "id": "bwevp1tKp1ck"
      },
      "execution_count": null,
      "outputs": []
    },
    {
      "cell_type": "markdown",
      "source": [
        "##### 1. Why did you pick the specific chart?"
      ],
      "metadata": {
        "id": "ylSl6qgtp1ck"
      }
    },
    {
      "cell_type": "markdown",
      "source": [
        "Answer Here."
      ],
      "metadata": {
        "id": "m2xqNkiQp1ck"
      }
    },
    {
      "cell_type": "markdown",
      "source": [
        "##### 2. What is/are the insight(s) found from the chart?"
      ],
      "metadata": {
        "id": "ZWILFDl5p1ck"
      }
    },
    {
      "cell_type": "markdown",
      "source": [
        "Answer Here"
      ],
      "metadata": {
        "id": "x-lUsV2mp1ck"
      }
    },
    {
      "cell_type": "markdown",
      "source": [
        "##### 3. Will the gained insights help creating a positive business impact? \n",
        "Are there any insights that lead to negative growth? Justify with specific reason."
      ],
      "metadata": {
        "id": "M7G43BXep1ck"
      }
    },
    {
      "cell_type": "markdown",
      "source": [
        "Answer Here"
      ],
      "metadata": {
        "id": "5wwDJXsLp1cl"
      }
    },
    {
      "cell_type": "markdown",
      "source": [
        "#### Chart - 13"
      ],
      "metadata": {
        "id": "Ag9LCva-p1cl"
      }
    },
    {
      "cell_type": "code",
      "source": [
        "# Chart - 13 visualization code"
      ],
      "metadata": {
        "id": "EUfxeq9-p1cl"
      },
      "execution_count": null,
      "outputs": []
    },
    {
      "cell_type": "markdown",
      "source": [
        "##### 1. Why did you pick the specific chart?"
      ],
      "metadata": {
        "id": "E6MkPsBcp1cl"
      }
    },
    {
      "cell_type": "markdown",
      "source": [
        "Answer Here."
      ],
      "metadata": {
        "id": "V22bRsFWp1cl"
      }
    },
    {
      "cell_type": "markdown",
      "source": [
        "##### 2. What is/are the insight(s) found from the chart?"
      ],
      "metadata": {
        "id": "2cELzS2fp1cl"
      }
    },
    {
      "cell_type": "markdown",
      "source": [
        "Answer Here"
      ],
      "metadata": {
        "id": "ozQPc2_Ip1cl"
      }
    },
    {
      "cell_type": "markdown",
      "source": [
        "##### 3. Will the gained insights help creating a positive business impact? \n",
        "Are there any insights that lead to negative growth? Justify with specific reason."
      ],
      "metadata": {
        "id": "3MPXvC8up1cl"
      }
    },
    {
      "cell_type": "markdown",
      "source": [
        "Answer Here"
      ],
      "metadata": {
        "id": "GL8l1tdLp1cl"
      }
    },
    {
      "cell_type": "markdown",
      "source": [
        "#### Chart - 14 - Correlation Heatmap"
      ],
      "metadata": {
        "id": "NC_X3p0fY2L0"
      }
    },
    {
      "cell_type": "code",
      "source": [
        "# Correlation Heatmap visualization code"
      ],
      "metadata": {
        "id": "xyC9zolEZNRQ"
      },
      "execution_count": null,
      "outputs": []
    },
    {
      "cell_type": "markdown",
      "source": [
        "##### 1. Why did you pick the specific chart?"
      ],
      "metadata": {
        "id": "UV0SzAkaZNRQ"
      }
    },
    {
      "cell_type": "markdown",
      "source": [
        "Answer Here."
      ],
      "metadata": {
        "id": "DVPuT8LYZNRQ"
      }
    },
    {
      "cell_type": "markdown",
      "source": [
        "##### 2. What is/are the insight(s) found from the chart?"
      ],
      "metadata": {
        "id": "YPEH6qLeZNRQ"
      }
    },
    {
      "cell_type": "markdown",
      "source": [
        "Answer Here"
      ],
      "metadata": {
        "id": "bfSqtnDqZNRR"
      }
    },
    {
      "cell_type": "markdown",
      "source": [
        "#### Chart - 15 - Pair Plot "
      ],
      "metadata": {
        "id": "q29F0dvdveiT"
      }
    },
    {
      "cell_type": "code",
      "source": [
        "# Pair Plot visualization code"
      ],
      "metadata": {
        "id": "o58-TEIhveiU"
      },
      "execution_count": null,
      "outputs": []
    },
    {
      "cell_type": "markdown",
      "source": [
        "##### 1. Why did you pick the specific chart?"
      ],
      "metadata": {
        "id": "EXh0U9oCveiU"
      }
    },
    {
      "cell_type": "markdown",
      "source": [
        "Answer Here."
      ],
      "metadata": {
        "id": "eMmPjTByveiU"
      }
    },
    {
      "cell_type": "markdown",
      "source": [
        "##### 2. What is/are the insight(s) found from the chart?"
      ],
      "metadata": {
        "id": "22aHeOlLveiV"
      }
    },
    {
      "cell_type": "markdown",
      "source": [
        "Answer Here"
      ],
      "metadata": {
        "id": "uPQ8RGwHveiV"
      }
    },
    {
      "cell_type": "markdown",
      "source": [
        "## ***5. Hypothesis Testing***"
      ],
      "metadata": {
        "id": "g-ATYxFrGrvw"
      }
    },
    {
      "cell_type": "markdown",
      "source": [
        "### Based on your chart experiments, define three hypothetical statements from the dataset. In the next three questions, perform hypothesis testing to obtain final conclusion about the statements through your code and statistical testing."
      ],
      "metadata": {
        "id": "Yfr_Vlr8HBkt"
      }
    },
    {
      "cell_type": "markdown",
      "source": [
        "Answer Here."
      ],
      "metadata": {
        "id": "-7MS06SUHkB-"
      }
    },
    {
      "cell_type": "markdown",
      "source": [
        "### Hypothetical Statement - 1"
      ],
      "metadata": {
        "id": "8yEUt7NnHlrM"
      }
    },
    {
      "cell_type": "markdown",
      "source": [
        "#### 1. State Your research hypothesis as a null hypothesis and alternate hypothesis."
      ],
      "metadata": {
        "id": "tEA2Xm5dHt1r"
      }
    },
    {
      "cell_type": "markdown",
      "source": [
        "Answer Here."
      ],
      "metadata": {
        "id": "HI9ZP0laH0D-"
      }
    },
    {
      "cell_type": "markdown",
      "source": [
        "#### 2. Perform an appropriate statistical test."
      ],
      "metadata": {
        "id": "I79__PHVH19G"
      }
    },
    {
      "cell_type": "code",
      "source": [
        "# Perform Statistical Test to obtain P-Value"
      ],
      "metadata": {
        "id": "oZrfquKtyian"
      },
      "execution_count": null,
      "outputs": []
    },
    {
      "cell_type": "markdown",
      "source": [
        "##### Which statistical test have you done to obtain P-Value?"
      ],
      "metadata": {
        "id": "Ou-I18pAyIpj"
      }
    },
    {
      "cell_type": "markdown",
      "source": [
        "Answer Here."
      ],
      "metadata": {
        "id": "s2U0kk00ygSB"
      }
    },
    {
      "cell_type": "markdown",
      "source": [
        "##### Why did you choose the specific statistical test?"
      ],
      "metadata": {
        "id": "fF3858GYyt-u"
      }
    },
    {
      "cell_type": "markdown",
      "source": [
        "Answer Here."
      ],
      "metadata": {
        "id": "HO4K0gP5y3B4"
      }
    },
    {
      "cell_type": "markdown",
      "source": [
        "### Hypothetical Statement - 2"
      ],
      "metadata": {
        "id": "4_0_7-oCpUZd"
      }
    },
    {
      "cell_type": "markdown",
      "source": [
        "#### 1. State Your research hypothesis as a null hypothesis and alternate hypothesis."
      ],
      "metadata": {
        "id": "hwyV_J3ipUZe"
      }
    },
    {
      "cell_type": "markdown",
      "source": [
        "Answer Here."
      ],
      "metadata": {
        "id": "FnpLGJ-4pUZe"
      }
    },
    {
      "cell_type": "markdown",
      "source": [
        "#### 2. Perform an appropriate statistical test."
      ],
      "metadata": {
        "id": "3yB-zSqbpUZe"
      }
    },
    {
      "cell_type": "code",
      "source": [
        "# Perform Statistical Test to obtain P-Value"
      ],
      "metadata": {
        "id": "sWxdNTXNpUZe"
      },
      "execution_count": null,
      "outputs": []
    },
    {
      "cell_type": "markdown",
      "source": [
        "##### Which statistical test have you done to obtain P-Value?"
      ],
      "metadata": {
        "id": "dEUvejAfpUZe"
      }
    },
    {
      "cell_type": "markdown",
      "source": [
        "Answer Here."
      ],
      "metadata": {
        "id": "oLDrPz7HpUZf"
      }
    },
    {
      "cell_type": "markdown",
      "source": [
        "##### Why did you choose the specific statistical test?"
      ],
      "metadata": {
        "id": "Fd15vwWVpUZf"
      }
    },
    {
      "cell_type": "markdown",
      "source": [
        "Answer Here."
      ],
      "metadata": {
        "id": "4xOGYyiBpUZf"
      }
    },
    {
      "cell_type": "markdown",
      "source": [
        "### Hypothetical Statement - 3"
      ],
      "metadata": {
        "id": "bn_IUdTipZyH"
      }
    },
    {
      "cell_type": "markdown",
      "source": [
        "#### 1. State Your research hypothesis as a null hypothesis and alternate hypothesis."
      ],
      "metadata": {
        "id": "49K5P_iCpZyH"
      }
    },
    {
      "cell_type": "markdown",
      "source": [
        "Answer Here."
      ],
      "metadata": {
        "id": "7gWI5rT9pZyH"
      }
    },
    {
      "cell_type": "markdown",
      "source": [
        "#### 2. Perform an appropriate statistical test."
      ],
      "metadata": {
        "id": "Nff-vKELpZyI"
      }
    },
    {
      "cell_type": "code",
      "source": [
        "# Perform Statistical Test to obtain P-Value"
      ],
      "metadata": {
        "id": "s6AnJQjtpZyI"
      },
      "execution_count": null,
      "outputs": []
    },
    {
      "cell_type": "markdown",
      "source": [
        "##### Which statistical test have you done to obtain P-Value?"
      ],
      "metadata": {
        "id": "kLW572S8pZyI"
      }
    },
    {
      "cell_type": "markdown",
      "source": [
        "Answer Here."
      ],
      "metadata": {
        "id": "ytWJ8v15pZyI"
      }
    },
    {
      "cell_type": "markdown",
      "source": [
        "##### Why did you choose the specific statistical test?"
      ],
      "metadata": {
        "id": "dWbDXHzopZyI"
      }
    },
    {
      "cell_type": "markdown",
      "source": [
        "Answer Here."
      ],
      "metadata": {
        "id": "M99G98V6pZyI"
      }
    },
    {
      "cell_type": "markdown",
      "source": [
        "## ***6. Feature Engineering & Data Pre-processing***"
      ],
      "metadata": {
        "id": "yLjJCtPM0KBk"
      }
    },
    {
      "cell_type": "markdown",
      "source": [
        "### 1. Handling Missing Values"
      ],
      "metadata": {
        "id": "xiyOF9F70UgQ"
      }
    },
    {
      "cell_type": "code",
      "source": [
        "# Handling Missing Values & Missing Value Imputation"
      ],
      "metadata": {
        "id": "iRsAHk1K0fpS"
      },
      "execution_count": null,
      "outputs": []
    },
    {
      "cell_type": "markdown",
      "source": [
        "#### What all missing value imputation techniques have you used and why did you use those techniques?"
      ],
      "metadata": {
        "id": "7wuGOrhz0itI"
      }
    },
    {
      "cell_type": "markdown",
      "source": [
        "Answer Here."
      ],
      "metadata": {
        "id": "1ixusLtI0pqI"
      }
    },
    {
      "cell_type": "markdown",
      "source": [
        "### 2. Handling Outliers"
      ],
      "metadata": {
        "id": "id1riN9m0vUs"
      }
    },
    {
      "cell_type": "code",
      "source": [
        "# Handling Outliers & Outlier treatments"
      ],
      "metadata": {
        "id": "M6w2CzZf04JK"
      },
      "execution_count": null,
      "outputs": []
    },
    {
      "cell_type": "markdown",
      "source": [
        "##### What all outlier treatment techniques have you used and why did you use those techniques?"
      ],
      "metadata": {
        "id": "578E2V7j08f6"
      }
    },
    {
      "cell_type": "markdown",
      "source": [
        "Answer Here."
      ],
      "metadata": {
        "id": "uGZz5OrT1HH-"
      }
    },
    {
      "cell_type": "markdown",
      "source": [
        "### 3. Categorical Encoding"
      ],
      "metadata": {
        "id": "89xtkJwZ18nB"
      }
    },
    {
      "cell_type": "code",
      "source": [
        "# Encode your categorical columns"
      ],
      "metadata": {
        "id": "21JmIYMG2hEo"
      },
      "execution_count": null,
      "outputs": []
    },
    {
      "cell_type": "markdown",
      "source": [
        "#### What all categorical encoding techniques have you used & why did you use those techniques?"
      ],
      "metadata": {
        "id": "67NQN5KX2AMe"
      }
    },
    {
      "cell_type": "markdown",
      "source": [
        "Answer Here."
      ],
      "metadata": {
        "id": "UDaue5h32n_G"
      }
    },
    {
      "cell_type": "markdown",
      "source": [
        "### 4. Textual Data Preprocessing \n",
        "(It's mandatory for textual dataset i.e., NLP, Sentiment Analysis, Text Clustering etc.)"
      ],
      "metadata": {
        "id": "Iwf50b-R2tYG"
      }
    },
    {
      "cell_type": "markdown",
      "source": [
        "#### 1. Expand Contraction"
      ],
      "metadata": {
        "id": "GMQiZwjn3iu7"
      }
    },
    {
      "cell_type": "code",
      "source": [
        "# Expand Contraction"
      ],
      "metadata": {
        "id": "PTouz10C3oNN"
      },
      "execution_count": null,
      "outputs": []
    },
    {
      "cell_type": "markdown",
      "source": [
        "#### 2. Lower Casing"
      ],
      "metadata": {
        "id": "WVIkgGqN3qsr"
      }
    },
    {
      "cell_type": "code",
      "source": [
        "# Lower Casing"
      ],
      "metadata": {
        "id": "88JnJ1jN3w7j"
      },
      "execution_count": null,
      "outputs": []
    },
    {
      "cell_type": "markdown",
      "source": [
        "#### 3. Removing Punctuations"
      ],
      "metadata": {
        "id": "XkPnILGE3zoT"
      }
    },
    {
      "cell_type": "code",
      "source": [
        "# Remove Punctuations"
      ],
      "metadata": {
        "id": "vqbBqNaA33c0"
      },
      "execution_count": null,
      "outputs": []
    },
    {
      "cell_type": "markdown",
      "source": [
        "#### 4. Removing URLs & Removing words and digits contain digits."
      ],
      "metadata": {
        "id": "Hlsf0x5436Go"
      }
    },
    {
      "cell_type": "code",
      "source": [
        "# Remove URLs & Remove words and digits contain digits"
      ],
      "metadata": {
        "id": "2sxKgKxu4Ip3"
      },
      "execution_count": null,
      "outputs": []
    },
    {
      "cell_type": "markdown",
      "source": [
        "#### 5. Removing Stopwords & Removing White spaces"
      ],
      "metadata": {
        "id": "mT9DMSJo4nBL"
      }
    },
    {
      "cell_type": "code",
      "source": [
        "# Remove Stopwords"
      ],
      "metadata": {
        "id": "T2LSJh154s8W"
      },
      "execution_count": null,
      "outputs": []
    },
    {
      "cell_type": "code",
      "source": [
        "# Remove White spaces"
      ],
      "metadata": {
        "id": "EgLJGffy4vm0"
      },
      "execution_count": null,
      "outputs": []
    },
    {
      "cell_type": "markdown",
      "source": [
        "#### 6. Rephrase Text"
      ],
      "metadata": {
        "id": "c49ITxTc407N"
      }
    },
    {
      "cell_type": "code",
      "source": [
        "# Rephrase Text"
      ],
      "metadata": {
        "id": "foqY80Qu48N2"
      },
      "execution_count": null,
      "outputs": []
    },
    {
      "cell_type": "markdown",
      "source": [
        "#### 7. Tokenization"
      ],
      "metadata": {
        "id": "OeJFEK0N496M"
      }
    },
    {
      "cell_type": "code",
      "source": [
        "# Tokenization"
      ],
      "metadata": {
        "id": "ijx1rUOS5CUU"
      },
      "execution_count": null,
      "outputs": []
    },
    {
      "cell_type": "markdown",
      "source": [
        "#### 8. Text Normalization"
      ],
      "metadata": {
        "id": "9ExmJH0g5HBk"
      }
    },
    {
      "cell_type": "code",
      "source": [
        "# Normalizing Text (i.e., Stemming, Lemmatization etc.)"
      ],
      "metadata": {
        "id": "AIJ1a-Zc5PY8"
      },
      "execution_count": null,
      "outputs": []
    },
    {
      "cell_type": "markdown",
      "source": [
        "##### Which text normalization technique have you used and why?"
      ],
      "metadata": {
        "id": "cJNqERVU536h"
      }
    },
    {
      "cell_type": "markdown",
      "source": [
        "Answer Here."
      ],
      "metadata": {
        "id": "Z9jKVxE06BC1"
      }
    },
    {
      "cell_type": "markdown",
      "source": [
        "#### 9. Part of speech tagging"
      ],
      "metadata": {
        "id": "k5UmGsbsOxih"
      }
    },
    {
      "cell_type": "code",
      "source": [
        "# POS Taging"
      ],
      "metadata": {
        "id": "btT3ZJBAO6Ik"
      },
      "execution_count": null,
      "outputs": []
    },
    {
      "cell_type": "markdown",
      "source": [
        "#### 10. Text Vectorization"
      ],
      "metadata": {
        "id": "T0VqWOYE6DLQ"
      }
    },
    {
      "cell_type": "code",
      "source": [
        "# Vectorizing Text"
      ],
      "metadata": {
        "id": "yBRtdhth6JDE"
      },
      "execution_count": null,
      "outputs": []
    },
    {
      "cell_type": "markdown",
      "source": [
        "##### Which text vectorization technique have you used and why?"
      ],
      "metadata": {
        "id": "qBMux9mC6MCf"
      }
    },
    {
      "cell_type": "markdown",
      "source": [
        "Answer Here."
      ],
      "metadata": {
        "id": "su2EnbCh6UKQ"
      }
    },
    {
      "cell_type": "markdown",
      "source": [
        "### 4. Feature Manipulation & Selection"
      ],
      "metadata": {
        "id": "-oLEiFgy-5Pf"
      }
    },
    {
      "cell_type": "markdown",
      "source": [
        "#### 1. Feature Manipulation"
      ],
      "metadata": {
        "id": "C74aWNz2AliB"
      }
    },
    {
      "cell_type": "code",
      "source": [
        "# Manipulate Features to minimize feature correlation and create new features"
      ],
      "metadata": {
        "id": "h1qC4yhBApWC"
      },
      "execution_count": null,
      "outputs": []
    },
    {
      "cell_type": "markdown",
      "source": [
        "#### 2. Feature Selection"
      ],
      "metadata": {
        "id": "2DejudWSA-a0"
      }
    },
    {
      "cell_type": "code",
      "source": [
        "# Select your features wisely to avoid overfitting"
      ],
      "metadata": {
        "id": "YLhe8UmaBCEE"
      },
      "execution_count": null,
      "outputs": []
    },
    {
      "cell_type": "markdown",
      "source": [
        "##### What all feature selection methods have you used  and why?"
      ],
      "metadata": {
        "id": "pEMng2IbBLp7"
      }
    },
    {
      "cell_type": "markdown",
      "source": [
        "Answer Here."
      ],
      "metadata": {
        "id": "rb2Lh6Z8BgGs"
      }
    },
    {
      "cell_type": "markdown",
      "source": [
        "##### Which all features you found important and why?"
      ],
      "metadata": {
        "id": "rAdphbQ9Bhjc"
      }
    },
    {
      "cell_type": "markdown",
      "source": [
        "Answer Here."
      ],
      "metadata": {
        "id": "fGgaEstsBnaf"
      }
    },
    {
      "cell_type": "markdown",
      "source": [
        "### 5. Data Transformation"
      ],
      "metadata": {
        "id": "TNVZ9zx19K6k"
      }
    },
    {
      "cell_type": "markdown",
      "source": [
        "#### Do you think that your data needs to be transformed? If yes, which transformation have you used. Explain Why?"
      ],
      "metadata": {
        "id": "nqoHp30x9hH9"
      }
    },
    {
      "cell_type": "code",
      "source": [
        "# Transform Your data"
      ],
      "metadata": {
        "id": "I6quWQ1T9rtH"
      },
      "execution_count": null,
      "outputs": []
    },
    {
      "cell_type": "markdown",
      "source": [
        "### 6. Data Scaling"
      ],
      "metadata": {
        "id": "rMDnDkt2B6du"
      }
    },
    {
      "cell_type": "code",
      "source": [
        "# Scaling your data"
      ],
      "metadata": {
        "id": "dL9LWpySC6x_"
      },
      "execution_count": null,
      "outputs": []
    },
    {
      "cell_type": "markdown",
      "source": [
        "##### Which method have you used to scale you data and why?"
      ],
      "metadata": {
        "id": "yiiVWRdJDDil"
      }
    },
    {
      "cell_type": "markdown",
      "source": [
        "### 7. Dimesionality Reduction"
      ],
      "metadata": {
        "id": "1UUpS68QDMuG"
      }
    },
    {
      "cell_type": "markdown",
      "source": [
        "##### Do you think that dimensionality reduction is needed? Explain Why?"
      ],
      "metadata": {
        "id": "kexQrXU-DjzY"
      }
    },
    {
      "cell_type": "markdown",
      "source": [
        "Answer Here."
      ],
      "metadata": {
        "id": "GGRlBsSGDtTQ"
      }
    },
    {
      "cell_type": "code",
      "source": [
        "# DImensionality Reduction (If needed)"
      ],
      "metadata": {
        "id": "kQfvxBBHDvCa"
      },
      "execution_count": null,
      "outputs": []
    },
    {
      "cell_type": "markdown",
      "source": [
        "##### Which dimensionality reduction technique have you used and why? (If dimensionality reduction done on dataset.)"
      ],
      "metadata": {
        "id": "T5CmagL3EC8N"
      }
    },
    {
      "cell_type": "markdown",
      "source": [
        "Answer Here."
      ],
      "metadata": {
        "id": "ZKr75IDuEM7t"
      }
    },
    {
      "cell_type": "markdown",
      "source": [
        "### 8. Data Splitting"
      ],
      "metadata": {
        "id": "BhH2vgX9EjGr"
      }
    },
    {
      "cell_type": "code",
      "source": [
        "# Split your data to train and test. Choose Splitting ratio wisely."
      ],
      "metadata": {
        "id": "0CTyd2UwEyNM"
      },
      "execution_count": null,
      "outputs": []
    },
    {
      "cell_type": "markdown",
      "source": [
        "##### What data splitting ratio have you used and why? "
      ],
      "metadata": {
        "id": "qjKvONjwE8ra"
      }
    },
    {
      "cell_type": "markdown",
      "source": [
        "Answer Here."
      ],
      "metadata": {
        "id": "Y2lJ8cobFDb_"
      }
    },
    {
      "cell_type": "markdown",
      "source": [
        "### 9. Handling Imbalanced Dataset"
      ],
      "metadata": {
        "id": "P1XJ9OREExlT"
      }
    },
    {
      "cell_type": "markdown",
      "source": [
        "##### Do you think the dataset is imbalanced? Explain Why."
      ],
      "metadata": {
        "id": "VFOzZv6IFROw"
      }
    },
    {
      "cell_type": "markdown",
      "source": [
        "Answer Here."
      ],
      "metadata": {
        "id": "GeKDIv7pFgcC"
      }
    },
    {
      "cell_type": "code",
      "source": [
        "# Handling Imbalanced Dataset (If needed)"
      ],
      "metadata": {
        "id": "nQsRhhZLFiDs"
      },
      "execution_count": null,
      "outputs": []
    },
    {
      "cell_type": "markdown",
      "source": [
        "##### What technique did you use to handle the imbalance dataset and why? (If needed to be balanced)"
      ],
      "metadata": {
        "id": "TIqpNgepFxVj"
      }
    },
    {
      "cell_type": "markdown",
      "source": [
        "Answer Here."
      ],
      "metadata": {
        "id": "qbet1HwdGDTz"
      }
    },
    {
      "cell_type": "markdown",
      "source": [
        "## ***7. ML Model Implementation***"
      ],
      "metadata": {
        "id": "VfCC591jGiD4"
      }
    },
    {
      "cell_type": "markdown",
      "source": [
        "### ML Model - 1"
      ],
      "metadata": {
        "id": "OB4l2ZhMeS1U"
      }
    },
    {
      "cell_type": "code",
      "source": [
        "# ML Model - 1 Implementation\n",
        "\n",
        "# Fit the Algorithm\n",
        "\n",
        "# Predict on the model"
      ],
      "metadata": {
        "id": "7ebyywQieS1U"
      },
      "execution_count": null,
      "outputs": []
    },
    {
      "cell_type": "markdown",
      "source": [
        "#### 1. Explain the ML Model used and it's performance using Evaluation metric Score Chart."
      ],
      "metadata": {
        "id": "ArJBuiUVfxKd"
      }
    },
    {
      "cell_type": "code",
      "source": [
        "# Visualizing evaluation Metric Score chart"
      ],
      "metadata": {
        "id": "rqD5ZohzfxKe"
      },
      "execution_count": null,
      "outputs": []
    },
    {
      "cell_type": "markdown",
      "source": [
        "#### 2. Cross- Validation & Hyperparameter Tuning"
      ],
      "metadata": {
        "id": "4qY1EAkEfxKe"
      }
    },
    {
      "cell_type": "code",
      "source": [
        "# ML Model - 1 Implementation with hyperparameter optimization techniques (i.e., GridSearch CV, RandomSearch CV, Bayesian Optimization etc.)\n",
        "\n",
        "# Fit the Algorithm\n",
        "\n",
        "# Predict on the model"
      ],
      "metadata": {
        "id": "Dy61ujd6fxKe"
      },
      "execution_count": null,
      "outputs": []
    },
    {
      "cell_type": "markdown",
      "source": [
        "##### Which hyperparameter optimization technique have you used and why?"
      ],
      "metadata": {
        "id": "PiV4Ypx8fxKe"
      }
    },
    {
      "cell_type": "markdown",
      "source": [
        "Answer Here."
      ],
      "metadata": {
        "id": "negyGRa7fxKf"
      }
    },
    {
      "cell_type": "markdown",
      "source": [
        "##### Have you seen any improvement? Note down the improvement with updates Evaluation metric Score Chart."
      ],
      "metadata": {
        "id": "TfvqoZmBfxKf"
      }
    },
    {
      "cell_type": "markdown",
      "source": [
        "Answer Here."
      ],
      "metadata": {
        "id": "OaLui8CcfxKf"
      }
    },
    {
      "cell_type": "markdown",
      "source": [
        "### ML Model - 2"
      ],
      "metadata": {
        "id": "dJ2tPlVmpsJ0"
      }
    },
    {
      "cell_type": "markdown",
      "source": [
        "#### 1. Explain the ML Model used and it's performance using Evaluation metric Score Chart."
      ],
      "metadata": {
        "id": "JWYfwnehpsJ1"
      }
    },
    {
      "cell_type": "code",
      "source": [
        "# Visualizing evaluation Metric Score chart"
      ],
      "metadata": {
        "id": "yEl-hgQWpsJ1"
      },
      "execution_count": null,
      "outputs": []
    },
    {
      "cell_type": "markdown",
      "source": [
        "#### 2. Cross- Validation & Hyperparameter Tuning"
      ],
      "metadata": {
        "id": "-jK_YjpMpsJ2"
      }
    },
    {
      "cell_type": "code",
      "source": [
        "# ML Model - 1 Implementation with hyperparameter optimization techniques (i.e., GridSearch CV, RandomSearch CV, Bayesian Optimization etc.)\n",
        "\n",
        "# Fit the Algorithm\n",
        "\n",
        "# Predict on the model"
      ],
      "metadata": {
        "id": "Dn0EOfS6psJ2"
      },
      "execution_count": null,
      "outputs": []
    },
    {
      "cell_type": "markdown",
      "source": [
        "##### Which hyperparameter optimization technique have you used and why?"
      ],
      "metadata": {
        "id": "HAih1iBOpsJ2"
      }
    },
    {
      "cell_type": "markdown",
      "source": [
        "Answer Here."
      ],
      "metadata": {
        "id": "9kBgjYcdpsJ2"
      }
    },
    {
      "cell_type": "markdown",
      "source": [
        "##### Have you seen any improvement? Note down the improvement with updates Evaluation metric Score Chart."
      ],
      "metadata": {
        "id": "zVGeBEFhpsJ2"
      }
    },
    {
      "cell_type": "markdown",
      "source": [
        "Answer Here."
      ],
      "metadata": {
        "id": "74yRdG6UpsJ3"
      }
    },
    {
      "cell_type": "markdown",
      "source": [
        "#### 3. Explain each evaluation metric's indication towards business and the business impact pf the ML model used."
      ],
      "metadata": {
        "id": "bmKjuQ-FpsJ3"
      }
    },
    {
      "cell_type": "markdown",
      "source": [
        "Answer Here."
      ],
      "metadata": {
        "id": "BDKtOrBQpsJ3"
      }
    },
    {
      "cell_type": "markdown",
      "source": [
        "### ML Model - 3"
      ],
      "metadata": {
        "id": "Fze-IPXLpx6K"
      }
    },
    {
      "cell_type": "code",
      "source": [
        "# ML Model - 3 Implementation\n",
        "\n",
        "# Fit the Algorithm\n",
        "\n",
        "# Predict on the model"
      ],
      "metadata": {
        "id": "FFrSXAtrpx6M"
      },
      "execution_count": null,
      "outputs": []
    },
    {
      "cell_type": "markdown",
      "source": [
        "#### 1. Explain the ML Model used and it's performance using Evaluation metric Score Chart."
      ],
      "metadata": {
        "id": "7AN1z2sKpx6M"
      }
    },
    {
      "cell_type": "code",
      "source": [
        "# Visualizing evaluation Metric Score chart"
      ],
      "metadata": {
        "id": "xIY4lxxGpx6M"
      },
      "execution_count": null,
      "outputs": []
    },
    {
      "cell_type": "markdown",
      "source": [
        "#### 2. Cross- Validation & Hyperparameter Tuning"
      ],
      "metadata": {
        "id": "9PIHJqyupx6M"
      }
    },
    {
      "cell_type": "code",
      "source": [
        "# ML Model - 3 Implementation with hyperparameter optimization techniques (i.e., GridSearch CV, RandomSearch CV, Bayesian Optimization etc.)\n",
        "\n",
        "# Fit the Algorithm\n",
        "\n",
        "# Predict on the model"
      ],
      "metadata": {
        "id": "eSVXuaSKpx6M"
      },
      "execution_count": null,
      "outputs": []
    },
    {
      "cell_type": "markdown",
      "source": [
        "##### Which hyperparameter optimization technique have you used and why?"
      ],
      "metadata": {
        "id": "_-qAgymDpx6N"
      }
    },
    {
      "cell_type": "markdown",
      "source": [
        "Answer Here."
      ],
      "metadata": {
        "id": "lQMffxkwpx6N"
      }
    },
    {
      "cell_type": "markdown",
      "source": [
        "##### Have you seen any improvement? Note down the improvement with updates Evaluation metric Score Chart."
      ],
      "metadata": {
        "id": "Z-hykwinpx6N"
      }
    },
    {
      "cell_type": "markdown",
      "source": [
        "Answer Here."
      ],
      "metadata": {
        "id": "MzVzZC6opx6N"
      }
    },
    {
      "cell_type": "markdown",
      "source": [
        "### 1. Which Evaluation metrics did you consider for a positive business impact and why?"
      ],
      "metadata": {
        "id": "h_CCil-SKHpo"
      }
    },
    {
      "cell_type": "markdown",
      "source": [
        "Answer Here."
      ],
      "metadata": {
        "id": "jHVz9hHDKFms"
      }
    },
    {
      "cell_type": "markdown",
      "source": [
        "### 2. Which ML model did you choose from the above created models as your final prediction model and why?"
      ],
      "metadata": {
        "id": "cBFFvTBNJzUa"
      }
    },
    {
      "cell_type": "markdown",
      "source": [
        "Answer Here."
      ],
      "metadata": {
        "id": "6ksF5Q1LKTVm"
      }
    },
    {
      "cell_type": "markdown",
      "source": [
        "### 3. Explain the model which you have used and the feature importance using any model explainability tool?"
      ],
      "metadata": {
        "id": "HvGl1hHyA_VK"
      }
    },
    {
      "cell_type": "markdown",
      "source": [
        "Answer Here."
      ],
      "metadata": {
        "id": "YnvVTiIxBL-C"
      }
    },
    {
      "cell_type": "markdown",
      "source": [
        "## ***8.*** ***Future Work (Optional)***"
      ],
      "metadata": {
        "id": "EyNgTHvd2WFk"
      }
    },
    {
      "cell_type": "markdown",
      "source": [
        "### 1. Save the best performing ml model in a pickle file or joblib file format for deployment process.\n"
      ],
      "metadata": {
        "id": "KH5McJBi2d8v"
      }
    },
    {
      "cell_type": "code",
      "source": [
        "# Save the File"
      ],
      "metadata": {
        "id": "bQIANRl32f4J"
      },
      "execution_count": null,
      "outputs": []
    },
    {
      "cell_type": "markdown",
      "source": [
        "### 2. Again Load the saved model file and try to predict unseen data for a sanity check.\n"
      ],
      "metadata": {
        "id": "iW_Lq9qf2h6X"
      }
    },
    {
      "cell_type": "code",
      "source": [
        "# Load the File and predict unseen data."
      ],
      "metadata": {
        "id": "oEXk9ydD2nVC"
      },
      "execution_count": null,
      "outputs": []
    },
    {
      "cell_type": "markdown",
      "source": [
        "### ***Congrats! Your model is successfully created and ready for deployment on a live server for a real user interaction !!!***"
      ],
      "metadata": {
        "id": "-Kee-DAl2viO"
      }
    },
    {
      "cell_type": "markdown",
      "source": [
        "# **Conclusion**"
      ],
      "metadata": {
        "id": "gCX9965dhzqZ"
      }
    },
    {
      "cell_type": "markdown",
      "source": [
        "Write the conclusion here."
      ],
      "metadata": {
        "id": "Fjb1IsQkh3yE"
      }
    },
    {
      "cell_type": "markdown",
      "source": [
        "### ***Hurrah! You have successfully completed your Machine Learning Capstone Project !!!***"
      ],
      "metadata": {
        "id": "gIfDvo9L0UH2"
      }
    }
  ]
}